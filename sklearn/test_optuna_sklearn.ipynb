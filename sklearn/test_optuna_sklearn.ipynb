{
 "cells": [
  {
   "cell_type": "code",
   "execution_count": 1,
   "metadata": {},
   "outputs": [],
   "source": [
    "import optuna\n",
    "from optuna_sklearn import EvaluateFunc, Objective"
   ]
  },
  {
   "cell_type": "code",
   "execution_count": 2,
   "metadata": {},
   "outputs": [],
   "source": [
    "import numpy as np\n",
    "from sklearn.model_selection import train_test_split"
   ]
  },
  {
   "cell_type": "markdown",
   "metadata": {},
   "source": [
    "# test regressor"
   ]
  },
  {
   "cell_type": "code",
   "execution_count": 3,
   "metadata": {},
   "outputs": [],
   "source": [
    "from sklearn.ensemble import ExtraTreesRegressor\n",
    "from sklearn.svm import SVR\n",
    "from sklearn.preprocessing import StandardScaler\n",
    "from sklearn.metrics import mean_squared_error"
   ]
  },
  {
   "cell_type": "code",
   "execution_count": 4,
   "metadata": {},
   "outputs": [],
   "source": [
    "# boston_dataset\n",
    "from sklearn.datasets import load_boston\n",
    "boston = load_boston()\n",
    "X, y = boston.data, boston.target\n",
    "X_train, X_val, y_train, y_val = train_test_split(X, y, random_state=0)\n",
    "\n",
    "# 標準化\n",
    "scaler = StandardScaler()\n",
    "X_train = scaler.fit_transform(X_train)\n",
    "X_val = scaler.transform(X_val)"
   ]
  },
  {
   "cell_type": "code",
   "execution_count": 5,
   "metadata": {},
   "outputs": [],
   "source": [
    "# setting for optuna\n",
    "trial_models = {\n",
    "    'Extra Trees': ExtraTreesRegressor,\n",
    "    'svr': SVR,\n",
    "    \n",
    "}\n",
    "trial_condition = {\n",
    "    'Extra Trees': {\n",
    "        \"n_estimators\": ('int', 15, 35),\n",
    "        \"max_depth\": ('dis', 15, 35, 5),\n",
    "        \"random_state\": 128\n",
    "    },\n",
    "    'svr': {\n",
    "        'C': ('log', 1e0, 1e2),\n",
    "        'epsilon': ('uni', 1e-1, 1e1)\n",
    "    }\n",
    "}\n",
    "score_metric = mean_squared_error\n",
    "direction = 'minimize'"
   ]
  },
  {
   "cell_type": "code",
   "execution_count": 6,
   "metadata": {},
   "outputs": [
    {
     "name": "stderr",
     "output_type": "stream",
     "text": [
      "[I 2019-08-27 00:06:35,057] Finished trial#0 resulted in value: 28.2990598528681. Current best value is 28.2990598528681 with parameters: {'classifier': 'svr', 'svr_C': 32.02797050834527, 'svr_epsilon': 6.66430185950666}.\n",
      "[I 2019-08-27 00:06:35,157] Finished trial#1 resulted in value: 20.573943001934435. Current best value is 20.573943001934435 with parameters: {'classifier': 'Extra Trees', 'Extra Trees_n_estimators': 17, 'Extra Trees_max_depth': 30.0}.\n",
      "[I 2019-08-27 00:06:35,243] Finished trial#2 resulted in value: 39.976508228215785. Current best value is 20.573943001934435 with parameters: {'classifier': 'Extra Trees', 'Extra Trees_n_estimators': 17, 'Extra Trees_max_depth': 30.0}.\n",
      "[I 2019-08-27 00:06:35,395] Finished trial#3 resulted in value: 21.172910037479877. Current best value is 20.573943001934435 with parameters: {'classifier': 'Extra Trees', 'Extra Trees_n_estimators': 17, 'Extra Trees_max_depth': 30.0}.\n",
      "[I 2019-08-27 00:06:35,533] Finished trial#4 resulted in value: 19.121660132797462. Current best value is 19.121660132797462 with parameters: {'classifier': 'Extra Trees', 'Extra Trees_n_estimators': 29, 'Extra Trees_max_depth': 15.0}.\n",
      "[I 2019-08-27 00:06:35,643] Finished trial#5 resulted in value: 21.647680216721486. Current best value is 19.121660132797462 with parameters: {'classifier': 'Extra Trees', 'Extra Trees_n_estimators': 29, 'Extra Trees_max_depth': 15.0}.\n",
      "[I 2019-08-27 00:06:35,715] Finished trial#6 resulted in value: 28.392104724940154. Current best value is 19.121660132797462 with parameters: {'classifier': 'Extra Trees', 'Extra Trees_n_estimators': 29, 'Extra Trees_max_depth': 15.0}.\n",
      "[I 2019-08-27 00:06:35,792] Finished trial#7 resulted in value: 18.239062882708435. Current best value is 18.239062882708435 with parameters: {'classifier': 'svr', 'svr_C': 93.73083003095182, 'svr_epsilon': 2.0902375441538803}.\n",
      "[I 2019-08-27 00:06:35,878] Finished trial#8 resulted in value: 46.66226211074971. Current best value is 18.239062882708435 with parameters: {'classifier': 'svr', 'svr_C': 93.73083003095182, 'svr_epsilon': 2.0902375441538803}.\n",
      "[I 2019-08-27 00:06:36,027] Finished trial#9 resulted in value: 20.801338582677158. Current best value is 18.239062882708435 with parameters: {'classifier': 'svr', 'svr_C': 93.73083003095182, 'svr_epsilon': 2.0902375441538803}.\n",
      "[I 2019-08-27 00:06:36,123] Finished trial#10 resulted in value: 40.677259866417735. Current best value is 18.239062882708435 with parameters: {'classifier': 'svr', 'svr_C': 93.73083003095182, 'svr_epsilon': 2.0902375441538803}.\n",
      "[I 2019-08-27 00:06:36,345] Finished trial#11 resulted in value: 20.573943001934435. Current best value is 18.239062882708435 with parameters: {'classifier': 'svr', 'svr_C': 93.73083003095182, 'svr_epsilon': 2.0902375441538803}.\n",
      "[I 2019-08-27 00:06:36,498] Finished trial#12 resulted in value: 20.56785866141732. Current best value is 18.239062882708435 with parameters: {'classifier': 'svr', 'svr_C': 93.73083003095182, 'svr_epsilon': 2.0902375441538803}.\n",
      "[I 2019-08-27 00:06:36,574] Finished trial#13 resulted in value: 22.967082901976344. Current best value is 18.239062882708435 with parameters: {'classifier': 'svr', 'svr_C': 93.73083003095182, 'svr_epsilon': 2.0902375441538803}.\n",
      "[I 2019-08-27 00:06:36,730] Finished trial#14 resulted in value: 20.473109477017847. Current best value is 18.239062882708435 with parameters: {'classifier': 'svr', 'svr_C': 93.73083003095182, 'svr_epsilon': 2.0902375441538803}.\n",
      "[I 2019-08-27 00:06:36,818] Finished trial#15 resulted in value: 19.360801298267766. Current best value is 18.239062882708435 with parameters: {'classifier': 'svr', 'svr_C': 93.73083003095182, 'svr_epsilon': 2.0902375441538803}.\n",
      "[I 2019-08-27 00:06:37,023] Finished trial#16 resulted in value: 20.4775364537766. Current best value is 18.239062882708435 with parameters: {'classifier': 'svr', 'svr_C': 93.73083003095182, 'svr_epsilon': 2.0902375441538803}.\n",
      "[I 2019-08-27 00:06:37,135] Finished trial#17 resulted in value: 54.34653996751927. Current best value is 18.239062882708435 with parameters: {'classifier': 'svr', 'svr_C': 93.73083003095182, 'svr_epsilon': 2.0902375441538803}.\n",
      "[I 2019-08-27 00:06:37,206] Finished trial#18 resulted in value: 35.248276565359454. Current best value is 18.239062882708435 with parameters: {'classifier': 'svr', 'svr_C': 93.73083003095182, 'svr_epsilon': 2.0902375441538803}.\n",
      "[I 2019-08-27 00:06:37,324] Finished trial#19 resulted in value: 21.350326185982944. Current best value is 18.239062882708435 with parameters: {'classifier': 'svr', 'svr_C': 93.73083003095182, 'svr_epsilon': 2.0902375441538803}.\n",
      "[I 2019-08-27 00:06:37,410] Finished trial#20 resulted in value: 29.17861294505346. Current best value is 18.239062882708435 with parameters: {'classifier': 'svr', 'svr_C': 93.73083003095182, 'svr_epsilon': 2.0902375441538803}.\n",
      "[I 2019-08-27 00:06:37,516] Finished trial#21 resulted in value: 17.908995000768115. Current best value is 17.908995000768115 with parameters: {'classifier': 'svr', 'svr_C': 98.24585029243289, 'svr_epsilon': 1.8832130227789288}.\n",
      "[I 2019-08-27 00:06:37,626] Finished trial#22 resulted in value: 17.752464996254208. Current best value is 17.752464996254208 with parameters: {'classifier': 'svr', 'svr_C': 91.79122312997053, 'svr_epsilon': 0.4770476849037393}.\n",
      "[I 2019-08-27 00:06:37,755] Finished trial#23 resulted in value: 17.648310609606284. Current best value is 17.648310609606284 with parameters: {'classifier': 'svr', 'svr_C': 94.9928729113712, 'svr_epsilon': 0.2609439137305065}.\n",
      "[I 2019-08-27 00:06:37,851] Finished trial#24 resulted in value: 26.882143393256953. Current best value is 17.648310609606284 with parameters: {'classifier': 'svr', 'svr_C': 94.9928729113712, 'svr_epsilon': 0.2609439137305065}.\n",
      "[I 2019-08-27 00:06:38,004] Finished trial#25 resulted in value: 22.11663662366133. Current best value is 17.648310609606284 with parameters: {'classifier': 'svr', 'svr_C': 94.9928729113712, 'svr_epsilon': 0.2609439137305065}.\n",
      "[I 2019-08-27 00:06:38,103] Finished trial#26 resulted in value: 18.64633748352946. Current best value is 17.648310609606284 with parameters: {'classifier': 'svr', 'svr_C': 94.9928729113712, 'svr_epsilon': 0.2609439137305065}.\n",
      "[I 2019-08-27 00:06:38,214] Finished trial#27 resulted in value: 17.475479559808978. Current best value is 17.475479559808978 with parameters: {'classifier': 'svr', 'svr_C': 99.13499070829799, 'svr_epsilon': 1.4074715416397585}.\n",
      "[I 2019-08-27 00:06:38,324] Finished trial#28 resulted in value: 32.12052242425612. Current best value is 17.475479559808978 with parameters: {'classifier': 'svr', 'svr_C': 99.13499070829799, 'svr_epsilon': 1.4074715416397585}.\n",
      "[I 2019-08-27 00:06:38,429] Finished trial#29 resulted in value: 26.18546646303055. Current best value is 17.475479559808978 with parameters: {'classifier': 'svr', 'svr_C': 99.13499070829799, 'svr_epsilon': 1.4074715416397585}.\n",
      "[I 2019-08-27 00:06:38,518] Finished trial#30 resulted in value: 17.731443550485128. Current best value is 17.475479559808978 with parameters: {'classifier': 'svr', 'svr_C': 99.13499070829799, 'svr_epsilon': 1.4074715416397585}.\n",
      "[I 2019-08-27 00:06:38,632] Finished trial#31 resulted in value: 17.550323299709795. Current best value is 17.475479559808978 with parameters: {'classifier': 'svr', 'svr_C': 99.13499070829799, 'svr_epsilon': 1.4074715416397585}.\n",
      "[I 2019-08-27 00:06:38,738] Finished trial#32 resulted in value: 17.582860206163428. Current best value is 17.475479559808978 with parameters: {'classifier': 'svr', 'svr_C': 99.13499070829799, 'svr_epsilon': 1.4074715416397585}.\n",
      "[I 2019-08-27 00:06:38,871] Finished trial#33 resulted in value: 19.12197677411584. Current best value is 17.475479559808978 with parameters: {'classifier': 'svr', 'svr_C': 99.13499070829799, 'svr_epsilon': 1.4074715416397585}.\n",
      "[I 2019-08-27 00:06:38,964] Finished trial#34 resulted in value: 17.979654926503937. Current best value is 17.475479559808978 with parameters: {'classifier': 'svr', 'svr_C': 99.13499070829799, 'svr_epsilon': 1.4074715416397585}.\n",
      "[I 2019-08-27 00:06:39,082] Finished trial#35 resulted in value: 20.230003321193777. Current best value is 17.475479559808978 with parameters: {'classifier': 'svr', 'svr_C': 99.13499070829799, 'svr_epsilon': 1.4074715416397585}.\n",
      "[I 2019-08-27 00:06:39,257] Finished trial#36 resulted in value: 19.494586962472226. Current best value is 17.475479559808978 with parameters: {'classifier': 'svr', 'svr_C': 99.13499070829799, 'svr_epsilon': 1.4074715416397585}.\n",
      "[I 2019-08-27 00:06:39,389] Finished trial#37 resulted in value: 19.632889418781424. Current best value is 17.475479559808978 with parameters: {'classifier': 'svr', 'svr_C': 99.13499070829799, 'svr_epsilon': 1.4074715416397585}.\n",
      "[I 2019-08-27 00:06:39,523] Finished trial#38 resulted in value: 18.011409779486527. Current best value is 17.475479559808978 with parameters: {'classifier': 'svr', 'svr_C': 99.13499070829799, 'svr_epsilon': 1.4074715416397585}.\n",
      "[I 2019-08-27 00:06:39,650] Finished trial#39 resulted in value: 25.656840104280146. Current best value is 17.475479559808978 with parameters: {'classifier': 'svr', 'svr_C': 99.13499070829799, 'svr_epsilon': 1.4074715416397585}.\n",
      "[I 2019-08-27 00:06:39,759] Finished trial#40 resulted in value: 18.69295299818113. Current best value is 17.475479559808978 with parameters: {'classifier': 'svr', 'svr_C': 99.13499070829799, 'svr_epsilon': 1.4074715416397585}.\n",
      "[I 2019-08-27 00:06:39,868] Finished trial#41 resulted in value: 17.91944714091156. Current best value is 17.475479559808978 with parameters: {'classifier': 'svr', 'svr_C': 99.13499070829799, 'svr_epsilon': 1.4074715416397585}.\n",
      "[I 2019-08-27 00:06:40,041] Finished trial#42 resulted in value: 17.566270338016885. Current best value is 17.475479559808978 with parameters: {'classifier': 'svr', 'svr_C': 99.13499070829799, 'svr_epsilon': 1.4074715416397585}.\n",
      "[I 2019-08-27 00:06:40,166] Finished trial#43 resulted in value: 18.247026218036467. Current best value is 17.475479559808978 with parameters: {'classifier': 'svr', 'svr_C': 99.13499070829799, 'svr_epsilon': 1.4074715416397585}.\n",
      "[I 2019-08-27 00:06:40,263] Finished trial#44 resulted in value: 19.37022515651764. Current best value is 17.475479559808978 with parameters: {'classifier': 'svr', 'svr_C': 99.13499070829799, 'svr_epsilon': 1.4074715416397585}.\n",
      "[I 2019-08-27 00:06:40,362] Finished trial#45 resulted in value: 17.551566644030068. Current best value is 17.475479559808978 with parameters: {'classifier': 'svr', 'svr_C': 99.13499070829799, 'svr_epsilon': 1.4074715416397585}.\n",
      "[I 2019-08-27 00:06:40,480] Finished trial#46 resulted in value: 18.121020835360778. Current best value is 17.475479559808978 with parameters: {'classifier': 'svr', 'svr_C': 99.13499070829799, 'svr_epsilon': 1.4074715416397585}.\n",
      "[I 2019-08-27 00:06:40,651] Finished trial#47 resulted in value: 23.547767205450107. Current best value is 17.475479559808978 with parameters: {'classifier': 'svr', 'svr_C': 99.13499070829799, 'svr_epsilon': 1.4074715416397585}.\n",
      "[I 2019-08-27 00:06:40,791] Finished trial#48 resulted in value: 19.73704841834933. Current best value is 17.475479559808978 with parameters: {'classifier': 'svr', 'svr_C': 99.13499070829799, 'svr_epsilon': 1.4074715416397585}.\n",
      "[I 2019-08-27 00:06:40,902] Finished trial#49 resulted in value: 19.34288386888354. Current best value is 17.475479559808978 with parameters: {'classifier': 'svr', 'svr_C': 99.13499070829799, 'svr_epsilon': 1.4074715416397585}.\n"
     ]
    }
   ],
   "source": [
    "evaluate = EvaluateFunc(X_train, X_val, y_train, y_val, score_metric)\n",
    "objective = Objective(evaluate, trial_models, trial_condition)\n",
    "study = optuna.create_study(direction=direction)  # Create a new study.\n",
    "study.optimize(objective, n_trials=50)  # Invoke optimization of the objective function."
   ]
  },
  {
   "cell_type": "markdown",
   "metadata": {},
   "source": [
    "# test classifier"
   ]
  },
  {
   "cell_type": "code",
   "execution_count": 7,
   "metadata": {},
   "outputs": [],
   "source": [
    "from sklearn.ensemble import ExtraTreesClassifier\n",
    "from sklearn.linear_model import RidgeClassifier\n",
    "from sklearn.neighbors import KNeighborsClassifier\n",
    "from sklearn.metrics import accuracy_score"
   ]
  },
  {
   "cell_type": "code",
   "execution_count": 8,
   "metadata": {},
   "outputs": [],
   "source": [
    "from sklearn.datasets import load_iris\n",
    "iris = load_iris()\n",
    "X, y = iris.data, iris.target\n",
    "X_train, X_val, y_train, y_val = train_test_split(X, y, random_state=0)"
   ]
  },
  {
   "cell_type": "code",
   "execution_count": 9,
   "metadata": {},
   "outputs": [],
   "source": [
    "trial_models = {\n",
    "    'Extra Trees': ExtraTreesClassifier,\n",
    "    'Ridge': RidgeClassifier,\n",
    "    'kneighbor': KNeighborsClassifier,\n",
    "    \n",
    "}\n",
    "trial_condition = {\n",
    "    'Extra Trees': {\n",
    "        'n_estimators': ('int', 1, 100),\n",
    "        'max_depth': ('dis', 1, 100, 5),\n",
    "        'random_state': 128\n",
    "    },\n",
    "    'Ridge': {\n",
    "        'alpha': ('log', 1e-2, 1e2)\n",
    "    },\n",
    "    'kneighbor': {\n",
    "        'n_neighbors': ('int', 1, 30),\n",
    "        'algorithm': ('cat', ('ball_tree', 'kd_tree')),\n",
    "    }\n",
    "}\n",
    "score_metric = accuracy_score\n",
    "direction = 'maximize'"
   ]
  },
  {
   "cell_type": "code",
   "execution_count": 10,
   "metadata": {},
   "outputs": [
    {
     "name": "stderr",
     "output_type": "stream",
     "text": [
      "[I 2019-08-27 00:06:43,196] Finished trial#0 resulted in value: 0.9736842105263158. Current best value is 0.9736842105263158 with parameters: {'classifier': 'kneighbor', 'kneighbor_n_neighbors': 19, 'kneighbor_algorithm': 'ball_tree'}.\n",
      "[W 2019-08-27 00:06:43,200] The range of parameter `Extra Trees_max_depth` is not divisible by `q`, and is replaced by [1, 96].\n",
      "[I 2019-08-27 00:06:43,317] Finished trial#1 resulted in value: 0.9736842105263158. Current best value is 0.9736842105263158 with parameters: {'classifier': 'kneighbor', 'kneighbor_n_neighbors': 19, 'kneighbor_algorithm': 'ball_tree'}.\n",
      "[I 2019-08-27 00:06:43,410] Finished trial#2 resulted in value: 0.7894736842105263. Current best value is 0.9736842105263158 with parameters: {'classifier': 'kneighbor', 'kneighbor_n_neighbors': 19, 'kneighbor_algorithm': 'ball_tree'}.\n",
      "[I 2019-08-27 00:06:43,497] Finished trial#3 resulted in value: 0.6842105263157895. Current best value is 0.9736842105263158 with parameters: {'classifier': 'kneighbor', 'kneighbor_n_neighbors': 19, 'kneighbor_algorithm': 'ball_tree'}.\n",
      "[W 2019-08-27 00:06:43,504] The range of parameter `Extra Trees_max_depth` is not divisible by `q`, and is replaced by [1, 96].\n",
      "[I 2019-08-27 00:06:43,615] Finished trial#4 resulted in value: 0.9736842105263158. Current best value is 0.9736842105263158 with parameters: {'classifier': 'kneighbor', 'kneighbor_n_neighbors': 19, 'kneighbor_algorithm': 'ball_tree'}.\n",
      "[W 2019-08-27 00:06:43,622] The range of parameter `Extra Trees_max_depth` is not divisible by `q`, and is replaced by [1, 96].\n",
      "[I 2019-08-27 00:06:43,758] Finished trial#5 resulted in value: 0.9736842105263158. Current best value is 0.9736842105263158 with parameters: {'classifier': 'kneighbor', 'kneighbor_n_neighbors': 19, 'kneighbor_algorithm': 'ball_tree'}.\n",
      "[I 2019-08-27 00:06:43,823] Finished trial#6 resulted in value: 0.9736842105263158. Current best value is 0.9736842105263158 with parameters: {'classifier': 'kneighbor', 'kneighbor_n_neighbors': 19, 'kneighbor_algorithm': 'ball_tree'}.\n",
      "[W 2019-08-27 00:06:43,831] The range of parameter `Extra Trees_max_depth` is not divisible by `q`, and is replaced by [1, 96].\n",
      "[I 2019-08-27 00:06:44,026] Finished trial#7 resulted in value: 0.9736842105263158. Current best value is 0.9736842105263158 with parameters: {'classifier': 'kneighbor', 'kneighbor_n_neighbors': 19, 'kneighbor_algorithm': 'ball_tree'}.\n",
      "[I 2019-08-27 00:06:44,105] Finished trial#8 resulted in value: 0.9736842105263158. Current best value is 0.9736842105263158 with parameters: {'classifier': 'kneighbor', 'kneighbor_n_neighbors': 19, 'kneighbor_algorithm': 'ball_tree'}.\n",
      "[I 2019-08-27 00:06:44,184] Finished trial#9 resulted in value: 0.9473684210526315. Current best value is 0.9736842105263158 with parameters: {'classifier': 'kneighbor', 'kneighbor_n_neighbors': 19, 'kneighbor_algorithm': 'ball_tree'}.\n",
      "[I 2019-08-27 00:06:44,256] Finished trial#10 resulted in value: 0.9736842105263158. Current best value is 0.9736842105263158 with parameters: {'classifier': 'kneighbor', 'kneighbor_n_neighbors': 19, 'kneighbor_algorithm': 'ball_tree'}.\n",
      "[W 2019-08-27 00:06:44,264] The range of parameter `Extra Trees_max_depth` is not divisible by `q`, and is replaced by [1, 96].\n",
      "[I 2019-08-27 00:06:44,416] Finished trial#11 resulted in value: 0.9736842105263158. Current best value is 0.9736842105263158 with parameters: {'classifier': 'kneighbor', 'kneighbor_n_neighbors': 19, 'kneighbor_algorithm': 'ball_tree'}.\n",
      "[W 2019-08-27 00:06:44,427] The range of parameter `Extra Trees_max_depth` is not divisible by `q`, and is replaced by [1, 96].\n",
      "[I 2019-08-27 00:06:44,607] Finished trial#12 resulted in value: 0.7631578947368421. Current best value is 0.9736842105263158 with parameters: {'classifier': 'kneighbor', 'kneighbor_n_neighbors': 19, 'kneighbor_algorithm': 'ball_tree'}.\n",
      "[I 2019-08-27 00:06:44,683] Finished trial#13 resulted in value: 0.9473684210526315. Current best value is 0.9736842105263158 with parameters: {'classifier': 'kneighbor', 'kneighbor_n_neighbors': 19, 'kneighbor_algorithm': 'ball_tree'}.\n",
      "[W 2019-08-27 00:06:44,693] The range of parameter `Extra Trees_max_depth` is not divisible by `q`, and is replaced by [1, 96].\n",
      "[I 2019-08-27 00:06:44,790] Finished trial#14 resulted in value: 0.9736842105263158. Current best value is 0.9736842105263158 with parameters: {'classifier': 'kneighbor', 'kneighbor_n_neighbors': 19, 'kneighbor_algorithm': 'ball_tree'}.\n",
      "[I 2019-08-27 00:06:44,884] Finished trial#15 resulted in value: 0.6842105263157895. Current best value is 0.9736842105263158 with parameters: {'classifier': 'kneighbor', 'kneighbor_n_neighbors': 19, 'kneighbor_algorithm': 'ball_tree'}.\n",
      "[I 2019-08-27 00:06:44,960] Finished trial#16 resulted in value: 0.9736842105263158. Current best value is 0.9736842105263158 with parameters: {'classifier': 'kneighbor', 'kneighbor_n_neighbors': 19, 'kneighbor_algorithm': 'ball_tree'}.\n",
      "[W 2019-08-27 00:06:44,969] The range of parameter `Extra Trees_max_depth` is not divisible by `q`, and is replaced by [1, 96].\n",
      "[I 2019-08-27 00:06:45,095] Finished trial#17 resulted in value: 0.9736842105263158. Current best value is 0.9736842105263158 with parameters: {'classifier': 'kneighbor', 'kneighbor_n_neighbors': 19, 'kneighbor_algorithm': 'ball_tree'}.\n",
      "[I 2019-08-27 00:06:45,174] Finished trial#18 resulted in value: 0.9736842105263158. Current best value is 0.9736842105263158 with parameters: {'classifier': 'kneighbor', 'kneighbor_n_neighbors': 19, 'kneighbor_algorithm': 'ball_tree'}.\n",
      "[I 2019-08-27 00:06:45,251] Finished trial#19 resulted in value: 0.9736842105263158. Current best value is 0.9736842105263158 with parameters: {'classifier': 'kneighbor', 'kneighbor_n_neighbors': 19, 'kneighbor_algorithm': 'ball_tree'}.\n",
      "[W 2019-08-27 00:06:45,261] The range of parameter `Extra Trees_max_depth` is not divisible by `q`, and is replaced by [1, 96].\n",
      "[I 2019-08-27 00:06:45,380] Finished trial#20 resulted in value: 0.9736842105263158. Current best value is 0.9736842105263158 with parameters: {'classifier': 'kneighbor', 'kneighbor_n_neighbors': 19, 'kneighbor_algorithm': 'ball_tree'}.\n",
      "[I 2019-08-27 00:06:45,469] Finished trial#21 resulted in value: 0.9473684210526315. Current best value is 0.9736842105263158 with parameters: {'classifier': 'kneighbor', 'kneighbor_n_neighbors': 19, 'kneighbor_algorithm': 'ball_tree'}.\n",
      "[I 2019-08-27 00:06:45,575] Finished trial#22 resulted in value: 0.9736842105263158. Current best value is 0.9736842105263158 with parameters: {'classifier': 'kneighbor', 'kneighbor_n_neighbors': 19, 'kneighbor_algorithm': 'ball_tree'}.\n",
      "[I 2019-08-27 00:06:45,670] Finished trial#23 resulted in value: 0.9736842105263158. Current best value is 0.9736842105263158 with parameters: {'classifier': 'kneighbor', 'kneighbor_n_neighbors': 19, 'kneighbor_algorithm': 'ball_tree'}.\n",
      "[I 2019-08-27 00:06:45,762] Finished trial#24 resulted in value: 0.9736842105263158. Current best value is 0.9736842105263158 with parameters: {'classifier': 'kneighbor', 'kneighbor_n_neighbors': 19, 'kneighbor_algorithm': 'ball_tree'}.\n",
      "[I 2019-08-27 00:06:45,841] Finished trial#25 resulted in value: 0.7105263157894737. Current best value is 0.9736842105263158 with parameters: {'classifier': 'kneighbor', 'kneighbor_n_neighbors': 19, 'kneighbor_algorithm': 'ball_tree'}.\n",
      "[I 2019-08-27 00:06:45,932] Finished trial#26 resulted in value: 0.9736842105263158. Current best value is 0.9736842105263158 with parameters: {'classifier': 'kneighbor', 'kneighbor_n_neighbors': 19, 'kneighbor_algorithm': 'ball_tree'}.\n",
      "[I 2019-08-27 00:06:46,019] Finished trial#27 resulted in value: 0.9736842105263158. Current best value is 0.9736842105263158 with parameters: {'classifier': 'kneighbor', 'kneighbor_n_neighbors': 19, 'kneighbor_algorithm': 'ball_tree'}.\n",
      "[I 2019-08-27 00:06:46,102] Finished trial#28 resulted in value: 0.9736842105263158. Current best value is 0.9736842105263158 with parameters: {'classifier': 'kneighbor', 'kneighbor_n_neighbors': 19, 'kneighbor_algorithm': 'ball_tree'}.\n",
      "[I 2019-08-27 00:06:46,180] Finished trial#29 resulted in value: 0.8947368421052632. Current best value is 0.9736842105263158 with parameters: {'classifier': 'kneighbor', 'kneighbor_n_neighbors': 19, 'kneighbor_algorithm': 'ball_tree'}.\n",
      "[I 2019-08-27 00:06:46,274] Finished trial#30 resulted in value: 0.9736842105263158. Current best value is 0.9736842105263158 with parameters: {'classifier': 'kneighbor', 'kneighbor_n_neighbors': 19, 'kneighbor_algorithm': 'ball_tree'}.\n",
      "[I 2019-08-27 00:06:46,362] Finished trial#31 resulted in value: 0.9736842105263158. Current best value is 0.9736842105263158 with parameters: {'classifier': 'kneighbor', 'kneighbor_n_neighbors': 19, 'kneighbor_algorithm': 'ball_tree'}.\n",
      "[I 2019-08-27 00:06:46,457] Finished trial#32 resulted in value: 0.9736842105263158. Current best value is 0.9736842105263158 with parameters: {'classifier': 'kneighbor', 'kneighbor_n_neighbors': 19, 'kneighbor_algorithm': 'ball_tree'}.\n",
      "[I 2019-08-27 00:06:46,539] Finished trial#33 resulted in value: 0.9736842105263158. Current best value is 0.9736842105263158 with parameters: {'classifier': 'kneighbor', 'kneighbor_n_neighbors': 19, 'kneighbor_algorithm': 'ball_tree'}.\n",
      "[I 2019-08-27 00:06:46,616] Finished trial#34 resulted in value: 0.9736842105263158. Current best value is 0.9736842105263158 with parameters: {'classifier': 'kneighbor', 'kneighbor_n_neighbors': 19, 'kneighbor_algorithm': 'ball_tree'}.\n",
      "[I 2019-08-27 00:06:46,698] Finished trial#35 resulted in value: 0.8157894736842105. Current best value is 0.9736842105263158 with parameters: {'classifier': 'kneighbor', 'kneighbor_n_neighbors': 19, 'kneighbor_algorithm': 'ball_tree'}.\n",
      "[I 2019-08-27 00:06:46,778] Finished trial#36 resulted in value: 0.9736842105263158. Current best value is 0.9736842105263158 with parameters: {'classifier': 'kneighbor', 'kneighbor_n_neighbors': 19, 'kneighbor_algorithm': 'ball_tree'}.\n",
      "[I 2019-08-27 00:06:46,863] Finished trial#37 resulted in value: 0.9736842105263158. Current best value is 0.9736842105263158 with parameters: {'classifier': 'kneighbor', 'kneighbor_n_neighbors': 19, 'kneighbor_algorithm': 'ball_tree'}.\n",
      "[I 2019-08-27 00:06:46,954] Finished trial#38 resulted in value: 0.9736842105263158. Current best value is 0.9736842105263158 with parameters: {'classifier': 'kneighbor', 'kneighbor_n_neighbors': 19, 'kneighbor_algorithm': 'ball_tree'}.\n",
      "[W 2019-08-27 00:06:46,967] The range of parameter `Extra Trees_max_depth` is not divisible by `q`, and is replaced by [1, 96].\n",
      "[I 2019-08-27 00:06:47,101] Finished trial#39 resulted in value: 0.9736842105263158. Current best value is 0.9736842105263158 with parameters: {'classifier': 'kneighbor', 'kneighbor_n_neighbors': 19, 'kneighbor_algorithm': 'ball_tree'}.\n",
      "[W 2019-08-27 00:06:47,125] The range of parameter `Extra Trees_max_depth` is not divisible by `q`, and is replaced by [1, 96].\n",
      "[I 2019-08-27 00:06:47,287] Finished trial#40 resulted in value: 0.9736842105263158. Current best value is 0.9736842105263158 with parameters: {'classifier': 'kneighbor', 'kneighbor_n_neighbors': 19, 'kneighbor_algorithm': 'ball_tree'}.\n",
      "[I 2019-08-27 00:06:47,381] Finished trial#41 resulted in value: 0.9736842105263158. Current best value is 0.9736842105263158 with parameters: {'classifier': 'kneighbor', 'kneighbor_n_neighbors': 19, 'kneighbor_algorithm': 'ball_tree'}.\n",
      "[I 2019-08-27 00:06:47,474] Finished trial#42 resulted in value: 0.9736842105263158. Current best value is 0.9736842105263158 with parameters: {'classifier': 'kneighbor', 'kneighbor_n_neighbors': 19, 'kneighbor_algorithm': 'ball_tree'}.\n",
      "[I 2019-08-27 00:06:47,570] Finished trial#43 resulted in value: 0.9736842105263158. Current best value is 0.9736842105263158 with parameters: {'classifier': 'kneighbor', 'kneighbor_n_neighbors': 19, 'kneighbor_algorithm': 'ball_tree'}.\n",
      "[I 2019-08-27 00:06:47,663] Finished trial#44 resulted in value: 0.9473684210526315. Current best value is 0.9736842105263158 with parameters: {'classifier': 'kneighbor', 'kneighbor_n_neighbors': 19, 'kneighbor_algorithm': 'ball_tree'}.\n",
      "[I 2019-08-27 00:06:47,752] Finished trial#45 resulted in value: 0.9736842105263158. Current best value is 0.9736842105263158 with parameters: {'classifier': 'kneighbor', 'kneighbor_n_neighbors': 19, 'kneighbor_algorithm': 'ball_tree'}.\n",
      "[I 2019-08-27 00:06:47,837] Finished trial#46 resulted in value: 0.9736842105263158. Current best value is 0.9736842105263158 with parameters: {'classifier': 'kneighbor', 'kneighbor_n_neighbors': 19, 'kneighbor_algorithm': 'ball_tree'}.\n",
      "[I 2019-08-27 00:06:47,944] Finished trial#47 resulted in value: 0.9736842105263158. Current best value is 0.9736842105263158 with parameters: {'classifier': 'kneighbor', 'kneighbor_n_neighbors': 19, 'kneighbor_algorithm': 'ball_tree'}.\n",
      "[I 2019-08-27 00:06:48,029] Finished trial#48 resulted in value: 0.7894736842105263. Current best value is 0.9736842105263158 with parameters: {'classifier': 'kneighbor', 'kneighbor_n_neighbors': 19, 'kneighbor_algorithm': 'ball_tree'}.\n",
      "[I 2019-08-27 00:06:48,116] Finished trial#49 resulted in value: 0.9736842105263158. Current best value is 0.9736842105263158 with parameters: {'classifier': 'kneighbor', 'kneighbor_n_neighbors': 19, 'kneighbor_algorithm': 'ball_tree'}.\n"
     ]
    }
   ],
   "source": [
    "evaluate = EvaluateFunc(X_train, X_val, y_train, y_val, score_metric)\n",
    "objective = Objective(evaluate, trial_models, trial_condition)\n",
    "study = optuna.create_study(direction=direction)  # Create a new study.\n",
    "study.optimize(objective, n_trials=50)  # Invoke optimization of the objective function."
   ]
  },
  {
   "cell_type": "code",
   "execution_count": 11,
   "metadata": {},
   "outputs": [
    {
     "name": "stdout",
     "output_type": "stream",
     "text": [
      "{'classifier': 'kneighbor', 'kneighbor_n_neighbors': 19, 'kneighbor_algorithm': 'ball_tree'}\n",
      "0.9736842105263158\n",
      "FrozenTrial(number=0, state=<TrialState.COMPLETE: 1>, value=0.9736842105263158, datetime_start=datetime.datetime(2019, 8, 27, 0, 6, 43, 125692), datetime_complete=datetime.datetime(2019, 8, 27, 0, 6, 43, 195718), params={'classifier': 'kneighbor', 'kneighbor_n_neighbors': 19, 'kneighbor_algorithm': 'ball_tree'}, distributions={'classifier': CategoricalDistribution(choices=('Extra Trees', 'Ridge', 'kneighbor')), 'kneighbor_n_neighbors': IntUniformDistribution(low=1, high=30), 'kneighbor_algorithm': CategoricalDistribution(choices=('ball_tree', 'kd_tree'))}, user_attrs={}, system_attrs={'_number': 0}, intermediate_values={}, params_in_internal_repr={'classifier': 2, 'kneighbor_n_neighbors': 19.0, 'kneighbor_algorithm': 0}, trial_id=0)\n"
     ]
    }
   ],
   "source": [
    "# 最適解\n",
    "print(study.best_params)\n",
    "print(study.best_value)\n",
    "print(study.best_trial)"
   ]
  },
  {
   "cell_type": "code",
   "execution_count": 14,
   "metadata": {},
   "outputs": [
    {
     "name": "stdout",
     "output_type": "stream",
     "text": [
      "0.9736842105263158\n"
     ]
    }
   ],
   "source": [
    "# ベタ書きで再現\n",
    "clf = KNeighborsClassifier(n_neighbors=19, algorithm='ball_tree')\n",
    "clf.fit(X_train, y_train)\n",
    "y_pred = clf.predict(X_val)\n",
    "error = accuracy_score(y_val, y_pred)\n",
    "print(error)"
   ]
  },
  {
   "cell_type": "code",
   "execution_count": 15,
   "metadata": {},
   "outputs": [],
   "source": [
    "# history\n",
    "hist_df = study.trials_dataframe()\n",
    "hist_df.to_csv(\"boston_hist.csv\")"
   ]
  },
  {
   "cell_type": "code",
   "execution_count": null,
   "metadata": {},
   "outputs": [],
   "source": []
  }
 ],
 "metadata": {
  "jupytext": {
   "encoding": "# -*- coding: utf-8 -*-",
   "text_representation": {
    "extension": ".py",
    "format_name": "light",
    "format_version": "1.4",
    "jupytext_version": "1.2.1"
   }
  },
  "kernelspec": {
   "display_name": "Python 3",
   "language": "python",
   "name": "python3"
  },
  "language_info": {
   "codemirror_mode": {
    "name": "ipython",
    "version": 3
   },
   "file_extension": ".py",
   "mimetype": "text/x-python",
   "name": "python",
   "nbconvert_exporter": "python",
   "pygments_lexer": "ipython3",
   "version": "3.6.5"
  }
 },
 "nbformat": 4,
 "nbformat_minor": 2
}
